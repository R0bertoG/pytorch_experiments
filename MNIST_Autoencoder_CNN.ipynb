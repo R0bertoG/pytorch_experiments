{
 "cells": [
  {
   "cell_type": "code",
   "execution_count": 2,
   "metadata": {
    "collapsed": true
   },
   "outputs": [],
   "source": [
    "import torch\n",
    "import torchvision"
   ]
  },
  {
   "cell_type": "code",
   "execution_count": 3,
   "metadata": {
    "collapsed": true
   },
   "outputs": [],
   "source": [
    "transform = torchvision.transforms.Compose([torchvision.transforms.ToTensor()])\n",
    "trainset  = torchvision.datasets.MNIST(download=True, root='./data', train=True,  transform=transform)\n",
    "testset   = torchvision.datasets.MNIST(download=True, root='./data', train=False, transform=transform)"
   ]
  },
  {
   "cell_type": "code",
   "execution_count": 4,
   "metadata": {
    "collapsed": true
   },
   "outputs": [],
   "source": [
    "trainloader = torch.utils.data.DataLoader(trainset, shuffle=True, batch_size=4, num_workers=2)"
   ]
  },
  {
   "cell_type": "code",
   "execution_count": 8,
   "metadata": {},
   "outputs": [],
   "source": [
    "class Autoencoder(torch.nn.Module):\n",
    "    def __init__(self):\n",
    "        super(Autoencoder, self).__init__()\n",
    "        self.encoder = torch.nn.Sequential(\n",
    "            torch.nn.Conv2d(1, 16, 3)\n",
    "            , torch.nn.ReLU()\n",
    "            , torch.nn.AdaptiveMaxPool2d((14,14)),\n",
    "            torch.nn.Conv2d(16, 8, 3)\n",
    "            , torch.nn.ReLU()\n",
    "            , torch.nn.AdaptiveMaxPool2d((8,8)),\n",
    "            torch.nn.Conv2d(8, 8, 3)\n",
    "            , torch.nn.ReLU()\n",
    "            , torch.nn.AdaptiveMaxPool2d((4,4))\n",
    "        )\n",
    "        \n",
    "        self.decoder = torch.nn.Sequential(\n",
    "            torch.nn.Conv2d(8, 8, 3)\n",
    "            , torch.nn.ReLU()\n",
    "            , torch.nn.AdaptiveMaxPool2d((8, 8)),\n",
    "            torch.nn.Conv2d(8, 16, 3)\n",
    "            , torch.nn.ReLU()\n",
    "            , torch.nn.AdaptiveMaxPool2d((14, 14)),\n",
    "            torch.nn.Conv2d(16, 8, 3)\n",
    "            , torch.nn.ReLU()\n",
    "            , torch.nn.AdaptiveMaxPool2d((30, 30)),\n",
    "            torch.nn.Conv2d(8, 1, 3)\n",
    "            , torch.nn.Sigmoid()\n",
    "        )\n",
    "    def forward(self, x):\n",
    "        x = self.encoder(x)\n",
    "        x = self.decoder(x)\n",
    "        return(x)\n",
    "    \n",
    "autoencoder = Autoencoder()"
   ]
  },
  {
   "cell_type": "code",
   "execution_count": 9,
   "metadata": {
    "collapsed": true
   },
   "outputs": [],
   "source": [
    "#criterion = torch.nn.CrossEntropyLoss()\n",
    "criterion = torch.nn.MSELoss()\n",
    "optimizer = torch.optim.Adadelta(autoencoder.parameters())"
   ]
  },
  {
   "cell_type": "code",
   "execution_count": 12,
   "metadata": {},
   "outputs": [
    {
     "name": "stdout",
     "output_type": "stream",
     "text": [
      "epoch:  0 loss:  0.023326197639107704\n",
      "epoch:  0 loss:  0.02551387995481491\n",
      "epoch:  0 loss:  0.02025729976594448\n",
      "epoch:  0 loss:  0.028423648327589035\n",
      "epoch:  0 loss:  0.02090676687657833\n",
      "epoch:  0 loss:  0.027652693912386894\n",
      "epoch:  0 loss:  0.02390868030488491\n",
      "epoch:  1 loss:  0.029300721362233162\n",
      "epoch:  1 loss:  0.03031419962644577\n",
      "epoch:  1 loss:  0.017145918682217598\n",
      "epoch:  1 loss:  0.026946743950247765\n",
      "epoch:  1 loss:  0.019312981516122818\n",
      "epoch:  1 loss:  0.02089577540755272\n",
      "epoch:  1 loss:  0.027017688378691673\n",
      "epoch:  2 loss:  0.017679976299405098\n",
      "epoch:  2 loss:  0.024861859157681465\n",
      "epoch:  2 loss:  0.016739169135689735\n",
      "epoch:  2 loss:  0.018384838476777077\n",
      "epoch:  2 loss:  0.024160725995898247\n",
      "epoch:  2 loss:  0.02997446060180664\n",
      "epoch:  2 loss:  0.01666792668402195\n",
      "epoch:  3 loss:  0.026211820542812347\n",
      "epoch:  3 loss:  0.023357711732387543\n",
      "epoch:  3 loss:  0.019914088770747185\n",
      "epoch:  3 loss:  0.01789308898150921\n",
      "epoch:  3 loss:  0.018185116350650787\n",
      "epoch:  3 loss:  0.027574587613344193\n",
      "epoch:  3 loss:  0.03226020559668541\n",
      "epoch:  4 loss:  0.020902827382087708\n",
      "epoch:  4 loss:  0.021844251081347466\n",
      "epoch:  4 loss:  0.028959911316633224\n",
      "epoch:  4 loss:  0.024760855361819267\n",
      "epoch:  4 loss:  0.03089112602174282\n",
      "epoch:  4 loss:  0.01953432336449623\n",
      "epoch:  4 loss:  0.022234303876757622\n",
      "time:  766.0617535849997\n"
     ]
    }
   ],
   "source": [
    "###\n",
    "import timeit\n",
    "start_time = timeit.default_timer()\n",
    "###\n",
    "num_epochs = 5\n",
    "for epoch in range(num_epochs):\n",
    "    for num_batch, data in enumerate(trainloader):\n",
    "        optimizer.zero_grad()\n",
    "        x, _ = data\n",
    "        x = torch.autograd.Variable(x)\n",
    "        output = autoencoder(x)\n",
    "        loss = criterion(output, x)\n",
    "        loss.backward()\n",
    "        optimizer.step()\n",
    "        if num_batch % 2000 == 1999:\n",
    "            print('epoch: ', epoch, 'loss: ', loss.data[0])\n",
    "###\n",
    "elapsed = timeit.default_timer() - start_time\n",
    "print(\"time: \", elapsed)\n",
    "###"
   ]
  },
  {
   "cell_type": "code",
   "execution_count": 14,
   "metadata": {},
   "outputs": [],
   "source": [
    "testloader = torch.utils.data.DataLoader(testset, batch_size=10, num_workers=2)\n",
    "n=0\n",
    "for num_batch, data in enumerate(testloader):\n",
    "    myInput, _ = data\n",
    "    #myInput = myInput.view(10, 1, 784)\n",
    "    myInput = torch.autograd.Variable(myInput)\n",
    "    myOutput = autoencoder(myInput)\n",
    "    break\n",
    "    \n",
    "myInput = myInput.data.numpy()\n",
    "myOutput = myOutput.data.numpy()"
   ]
  },
  {
   "cell_type": "code",
   "execution_count": 15,
   "metadata": {},
   "outputs": [
    {
     "data": {
      "image/png": "[encoded data removed]",
      "text/plain": [
       "<matplotlib.figure.Figure at 0x7fdbdb97abe0>"
      ]
     },
     "metadata": {},
     "output_type": "display_data"
    }
   ],
   "source": [
    "%matplotlib inline\n",
    "import matplotlib.pyplot as plt\n",
    "n = 10  # how many digits we will display\n",
    "plt.figure(figsize=(20, 4))\n",
    "for i in range(n):\n",
    "    # display original\n",
    "    ax = plt.subplot(2, n, i + 1)\n",
    "    plt.imshow(myInput[i].reshape(28, 28))\n",
    "    plt.gray()\n",
    "    ax.get_xaxis().set_visible(False)\n",
    "    ax.get_yaxis().set_visible(False)\n",
    "\n",
    "    # display reconstruction\n",
    "    ax = plt.subplot(2, n, i + 1 + n)\n",
    "    plt.imshow(myOutput[i].reshape(28, 28))\n",
    "    plt.gray()\n",
    "    ax.get_xaxis().set_visible(False)\n",
    "    ax.get_yaxis().set_visible(False)\n",
    "plt.show()"
   ]
  },
  {
   "cell_type": "code",
   "execution_count": null,
   "metadata": {
    "collapsed": true
   },
   "outputs": [],
   "source": []
  }
 ],
 "metadata": {
  "kernelspec": {
   "display_name": "Python 3",
   "language": "python",
   "name": "python3"
  },
  "language_info": {
   "codemirror_mode": {
    "name": "ipython",
    "version": 3
   },
   "file_extension": ".py",
   "mimetype": "text/x-python",
   "name": "python",
   "nbconvert_exporter": "python",
   "pygments_lexer": "ipython3",
   "version": "3.6.4"
  }
 },
 "nbformat": 4,
 "nbformat_minor": 2
}
