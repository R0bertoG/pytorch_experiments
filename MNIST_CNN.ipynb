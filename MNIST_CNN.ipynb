{
 "cells": [
  {
   "cell_type": "code",
   "execution_count": 24,
   "metadata": {
    "collapsed": true
   },
   "outputs": [],
   "source": [
    "import torch\n",
    "import torchvision"
   ]
  },
  {
   "cell_type": "code",
   "execution_count": 30,
   "metadata": {},
   "outputs": [],
   "source": [
    "transform = torchvision.transforms.Compose(\n",
    "    [torchvision.transforms.ToTensor()\n",
    "     , torchvision.transforms.Normalize((0.5, 0.5, 0.5), (0.5, 0.5, 0.5))])"
   ]
  },
  {
   "cell_type": "code",
   "execution_count": 31,
   "metadata": {},
   "outputs": [],
   "source": [
    "trainset = torchvision.datasets.MNIST(root='./data'\n",
    "                                            , train=True\n",
    "                                            , download=True\n",
    "                                            , transform=transform )\n",
    "\n",
    "testset = torchvision.datasets.MNIST(root='./data'\n",
    "                                            , train=False\n",
    "                                            , download=True\n",
    "                                            , transform=transform )"
   ]
  },
  {
   "cell_type": "code",
   "execution_count": 32,
   "metadata": {
    "collapsed": true
   },
   "outputs": [],
   "source": [
    "trainloader = torch.utils.data.DataLoader(trainset, shuffle=True, batch_size=4, num_workers=2)"
   ]
  },
  {
   "cell_type": "code",
   "execution_count": 57,
   "metadata": {},
   "outputs": [],
   "source": [
    "class Net(torch.nn.Module):\n",
    "    def __init__(self):\n",
    "        super(Net, self).__init__()\n",
    "        self.cn1  = torch.nn.Conv2d(1, 6, 5)\n",
    "        self.pool = torch.nn.MaxPool2d(2, 2)\n",
    "        self.cn2  = torch.nn.Conv2d(6, 16, 5)\n",
    "        #self.dl1  = torch.nn.Linear(16 * 5 * 5, 120)\n",
    "        self.dl1  = torch.nn.Linear(256, 120)\n",
    "        self.dl2  = torch.nn.Linear(120, 84)\n",
    "        self.dl3  = torch.nn.Linear(84, 10)\n",
    "    def forward(self, x):\n",
    "        x = self.cn1(x)\n",
    "        x = self.pool( torch.nn.functional.relu(x) )\n",
    "        x = self.cn2(x)\n",
    "        x = self.pool( torch.nn.functional.relu(x) )\n",
    "        x = x.view(-1, self.num_flat_features(x))\n",
    "        x = torch.nn.functional.relu( self.dl1(x) )\n",
    "        x = torch.nn.functional.relu( self.dl2(x) )\n",
    "        x = self.dl3( x )\n",
    "        return x\n",
    "    def num_flat_features(self, x):\n",
    "        size = x.size()[1:]  # all dimensions except the batch dimension\n",
    "        num_features = 1\n",
    "        for s in size:\n",
    "            num_features *= s\n",
    "        return num_features\n",
    "net = Net()"
   ]
  },
  {
   "cell_type": "code",
   "execution_count": 58,
   "metadata": {
    "collapsed": true
   },
   "outputs": [],
   "source": [
    "criterion = torch.nn.CrossEntropyLoss()\n",
    "optimizer = torch.optim.SGD(net.parameters(), lr=0.001, momentum=0.9)"
   ]
  },
  {
   "cell_type": "code",
   "execution_count": 60,
   "metadata": {},
   "outputs": [
    {
     "name": "stdout",
     "output_type": "stream",
     "text": [
      "1999\n",
      "3999\n",
      "5999\n",
      "7999\n",
      "9999\n",
      "11999\n",
      "13999\n"
     ]
    }
   ],
   "source": [
    "for epoch in range(1):\n",
    "    for batch_number, data in enumerate(trainloader):\n",
    "        optimizer.zero_grad()\n",
    "        x, y = data\n",
    "        #x = x.view(4, 1, 28, 28)\n",
    "        x, y = torch.autograd.Variable(x), torch.autograd.Variable(y_)\n",
    "        y_ = net(x)\n",
    "        loss = criterion(y_, y)\n",
    "        loss.backward()\n",
    "        optimizer.step()\n",
    "        if batch_number % 2000 == 1999:\n",
    "            print(batch_number)"
   ]
  },
  {
   "cell_type": "code",
   "execution_count": 61,
   "metadata": {
    "collapsed": true
   },
   "outputs": [],
   "source": [
    "testloader = torch.utils.data.DataLoader(testset, shuffle=True, batch_size=4, num_workers=2)"
   ]
  },
  {
   "cell_type": "code",
   "execution_count": 67,
   "metadata": {},
   "outputs": [
    {
     "name": "stdout",
     "output_type": "stream",
     "text": [
      "prediction:  \n",
      " 0\n",
      " 3\n",
      " 5\n",
      " 0\n",
      "[torch.LongTensor of size 4]\n",
      "\n",
      "ground truth: \n",
      " 0\n",
      " 3\n",
      " 5\n",
      " 0\n",
      "[torch.LongTensor of size 4]\n",
      "\n"
     ]
    }
   ],
   "source": [
    "iterator = iter(testloader)\n",
    "x, y = iterator.next()\n",
    "y_ = net( torch.autograd.Variable(x) )\n",
    "y_ = torch.max(y_.data, 1)[1]\n",
    "print('prediction: ', y_)\n",
    "print('ground truth:', y)\n"
   ]
  },
  {
   "cell_type": "code",
   "execution_count": null,
   "metadata": {
    "collapsed": true
   },
   "outputs": [],
   "source": []
  }
 ],
 "metadata": {
  "kernelspec": {
   "display_name": "Python 3",
   "language": "python",
   "name": "python3"
  },
  "language_info": {
   "codemirror_mode": {
    "name": "ipython",
    "version": 3
   },
   "file_extension": ".py",
   "mimetype": "text/x-python",
   "name": "python",
   "nbconvert_exporter": "python",
   "pygments_lexer": "ipython3",
   "version": "3.6.4"
  }
 },
 "nbformat": 4,
 "nbformat_minor": 2
}
