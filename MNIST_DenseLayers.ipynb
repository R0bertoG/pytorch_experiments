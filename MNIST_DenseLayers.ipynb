{
 "cells": [
  {
   "cell_type": "code",
   "execution_count": 85,
   "metadata": {},
   "outputs": [],
   "source": [
    "%matplotlib inline\n",
    "import matplotlib.pyplot as plt\n",
    "import torch\n",
    "import torchvision"
   ]
  },
  {
   "cell_type": "code",
   "execution_count": 6,
   "metadata": {},
   "outputs": [],
   "source": [
    "trainset = torchvision.datasets.MNIST(root='./data' \n",
    "                                        , train     =True\n",
    "                                        , download  =True\n",
    "                                        , transform = torchvision.transforms.ToTensor())\n",
    "\n",
    "testset = torchvision.datasets.MNIST(root='./data'\n",
    "                                        , train     =False\n",
    "                                        , download  =True\n",
    "                                        , transform = torchvision.transforms.ToTensor())"
   ]
  },
  {
   "cell_type": "code",
   "execution_count": 7,
   "metadata": {
    "collapsed": true
   },
   "outputs": [],
   "source": [
    "trainloader = torch.utils.data.DataLoader(trainset, batch_size=4, shuffle=True, num_workers=2)"
   ]
  },
  {
   "cell_type": "code",
   "execution_count": 27,
   "metadata": {},
   "outputs": [
    {
     "name": "stdout",
     "output_type": "stream",
     "text": [
      "torch.Size([4, 1, 28, 28]) torch.Size([4])\n",
      "<class 'torch.FloatTensor'>\n"
     ]
    }
   ],
   "source": [
    "iterator = iter(trainloader)\n",
    "images, labels = iterator.next()\n",
    "print(images.shape, labels.shape)\n",
    "print(type(images))"
   ]
  },
  {
   "cell_type": "code",
   "execution_count": 74,
   "metadata": {},
   "outputs": [],
   "source": [
    "class Net(torch.nn.Module):\n",
    "    def __init__(self):\n",
    "        super(Net, self).__init__()\n",
    "        self.dense1 = torch.nn.Linear(28*28, 1000, bias=True)\n",
    "        self.dense2 = torch.nn.Linear(1000, 28*28, bias=True)\n",
    "        self.dense3 = torch.nn.Linear(28*28, 10, bias=True)\n",
    "    def forward(self, x):\n",
    "        x = torch.nn.functional.relu(self.dense1(x))\n",
    "        x = torch.nn.functional.relu(self.dense2(x))\n",
    "        x = self.dense3(x)\n",
    "        return x"
   ]
  },
  {
   "cell_type": "code",
   "execution_count": 77,
   "metadata": {},
   "outputs": [],
   "source": [
    "net = Net()\n",
    "criterion = torch.nn.CrossEntropyLoss()\n",
    "optimizer = torch.optim.SGD(net.parameters(), lr=0.001, momentum=0.9)"
   ]
  },
  {
   "cell_type": "code",
   "execution_count": 80,
   "metadata": {},
   "outputs": [
    {
     "name": "stdout",
     "output_type": "stream",
     "text": [
      "1999\n",
      "3999\n",
      "5999\n",
      "7999\n",
      "9999\n",
      "11999\n",
      "13999\n",
      "time:  323.8100660179989\n"
     ]
    }
   ],
   "source": [
    "import timeit\n",
    "memory_loss=[]\n",
    "start_time = timeit.default_timer()\n",
    "for epoch in range(1):\n",
    "    for i, data in enumerate(trainloader):\n",
    "        optimizer.zero_grad()\n",
    "        \n",
    "        x, y = data\n",
    "        x, y = torch.autograd.Variable(x), torch.autograd.Variable(y)\n",
    "        x = x.view(4, 28*28)\n",
    "        \n",
    "        y_ = net(x)\n",
    "\n",
    "        loss = criterion(y_, y)\n",
    "        memory_loss.append(loss.data[0])\n",
    "        loss.backward()\n",
    "        optimizer.step()\n",
    "        if i % 2000 == 1999:\n",
    "            print(i)\n",
    "            \n",
    "elapsed = timeit.default_timer() - start_time\n",
    "print(\"time: \", elapsed)"
   ]
  },
  {
   "cell_type": "code",
   "execution_count": 100,
   "metadata": {},
   "outputs": [
    {
     "data": {
      "text/plain": [
       "[<matplotlib.lines.Line2D at 0x7f4c5549d630>]"
      ]
     },
     "execution_count": 100,
     "metadata": {},
     "output_type": "execute_result"
    },
    {
     "data": {
      "image/png": "[encoded data removed]",
      "text/plain": [
       "<matplotlib.figure.Figure at 0x7f4c5e246048>"
      ]
     },
     "metadata": {},
     "output_type": "display_data"
    }
   ],
   "source": [
    "#stat_loss = memory_loss[len(memory_loss)-800:len(memory_loss)]\n",
    "stat_loss = memory_loss[0:700]\n",
    "iteration_number = torch.linspace(1, len(stat_loss), len(stat_loss) ).numpy() \n",
    "plt.plot(iteration_number, stat_loss)\n",
    "#print(memory_loss)"
   ]
  },
  {
   "cell_type": "code",
   "execution_count": 99,
   "metadata": {},
   "outputs": [
    {
     "name": "stdout",
     "output_type": "stream",
     "text": [
      "prediction \n",
      " 9\n",
      " 7\n",
      " 0\n",
      " 2\n",
      "[torch.LongTensor of size 4]\n",
      "\n",
      "ground truth:  \n",
      " 9\n",
      " 7\n",
      " 0\n",
      " 2\n",
      "[torch.LongTensor of size 4]\n",
      "\n"
     ]
    }
   ],
   "source": [
    "testloader = torch.utils.data.DataLoader(testset, batch_size=4, shuffle=True, num_workers=2)\n",
    "iterator = iter(testloader)\n",
    "\n",
    "x_test, y_test = iterator.next()\n",
    "x_test = x_test.view(4, 28*28)\n",
    "x_test = torch.autograd.Variable( x_test )\n",
    "\n",
    "y_output_test = net(x_test)\n",
    "\n",
    "print(\"prediction\", torch.max(y_output_test.data, 1)[1])\n",
    "print(\"ground truth: \", y_test)\n"
   ]
  }
 ],
 "metadata": {
  "kernelspec": {
   "display_name": "Python 3",
   "language": "python",
   "name": "python3"
  },
  "language_info": {
   "codemirror_mode": {
    "name": "ipython",
    "version": 3
   },
   "file_extension": ".py",
   "mimetype": "text/x-python",
   "name": "python",
   "nbconvert_exporter": "python",
   "pygments_lexer": "ipython3",
   "version": "3.6.4"
  }
 },
 "nbformat": 4,
 "nbformat_minor": 2
}
